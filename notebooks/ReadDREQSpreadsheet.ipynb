{
 "cells": [
  {
   "cell_type": "markdown",
   "metadata": {},
   "source": [
    "# Reading the DREQ spreadsheet\n",
    "This is just an attempt to see if I can do this.  This is using [openPyXL](https://openpyxl.readthedocs.io/en/default/index.html)."
   ]
  },
  {
   "cell_type": "code",
   "execution_count": 1,
   "metadata": {
    "collapsed": false
   },
   "outputs": [],
   "source": [
    "from os import makedirs\n",
    "from os.path import expanduser, join, isdir\n",
    "from re import split\n",
    "from json import dump\n",
    "from openpyxl import load_workbook\n",
    "\n",
    "# Where things are\n",
    "#\n",
    "root = expanduser(\"~/work/cmip6-data-request\")\n",
    "dreq_xlsx = join(root, \"CMIP6dreq/trunk/dreqPy/docs/CMIP6_MIP_tables.xlsx\")\n",
    "outdir = join(root, \"scratch/xlout\")\n",
    "\n",
    "# Load the dreq spreadsheet\n",
    "#\n",
    "dreq = load_workbook(filename=dreq_xlsx,\n",
    "                     read_only=True)"
   ]
  },
  {
   "cell_type": "code",
   "execution_count": 2,
   "metadata": {
    "collapsed": false
   },
   "outputs": [],
   "source": [
    "def tuplify_mips(mips):\n",
    "    # turn a stringy list of mips into a tuple\n",
    "    if mips is not None:\n",
    "        return tuple(split(r\",\\s*\", mips))\n",
    "    else:\n",
    "        return ()"
   ]
  },
  {
   "cell_type": "code",
   "execution_count": 3,
   "metadata": {
    "collapsed": false
   },
   "outputs": [
    {
     "data": {
      "text/plain": [
       "((0, u'Priority'),\n",
       " (1, u'Long name'),\n",
       " (2, u'units'),\n",
       " (3, u'description'),\n",
       " (4, u'comment'),\n",
       " (5, u'Variable Name'),\n",
       " (6, u'CF Standard Name'),\n",
       " (7, u'cell_methods'),\n",
       " (8, u'positive'),\n",
       " (9, u'type'),\n",
       " (10, u'dimensions'),\n",
       " (11, u'CMOR Name'),\n",
       " (12, u'modeling_realm'),\n",
       " (13, u'frequency'),\n",
       " (14, u'cell_measures'),\n",
       " (15, u'prov'),\n",
       " (16, u'provNote'),\n",
       " (17, u'rowIndex'),\n",
       " (18, u'UID'),\n",
       " (19, u'vid'),\n",
       " (20, u'stid'),\n",
       " (21, u'Structure Title'),\n",
       " (22, u'MIPs (requesting)'),\n",
       " (23, u'MIPs (by experiment)'))"
      ]
     },
     "execution_count": 3,
     "metadata": {},
     "output_type": "execute_result"
    }
   ],
   "source": [
    "# Find the headers of a 'good' miptable\n",
    "#\n",
    "amon = dreq['Amon']\n",
    "headers = tuple((i, c.value) for (i, c) in enumerate(tuple(amon.rows)[0]))\n",
    "headers"
   ]
  },
  {
   "cell_type": "code",
   "execution_count": 4,
   "metadata": {
    "collapsed": false
   },
   "outputs": [],
   "source": [
    "# Build a big table mapping miptable to tuples of rows\n",
    "#\n",
    "\n",
    "# Skip sheets which are not actually miptables\n",
    "#\n",
    "non_miptables={'Notes'}\n",
    "\n",
    "mtrows = {mt: tuple({'label/v': r[5].value,\n",
    "                     'label/c': r[11].value,\n",
    "                     'mips/r': tuplify_mips(r[22].value),\n",
    "                     'mips/e': tuplify_mips(r[23].value)}\n",
    "                    for r in tuple(dreq[mt].rows)[1:])\n",
    "          for mt in dreq.sheetnames\n",
    "          if mt not in non_miptables}"
   ]
  },
  {
   "cell_type": "code",
   "execution_count": 5,
   "metadata": {
    "collapsed": false
   },
   "outputs": [],
   "source": [
    "# And finally spit the whole thing out\n",
    "#\n",
    "if not isdir(outdir):\n",
    "    makedirs(join(outdir))\n",
    "\n",
    "with open(join(root, outdir, \"ts.json\"), 'w') as out:\n",
    "    dump(mtrows, out, indent=2, sort_keys=True)"
   ]
  }
 ],
 "metadata": {
  "kernelspec": {
   "display_name": "Python 2",
   "language": "python",
   "name": "python2"
  },
  "language_info": {
   "codemirror_mode": {
    "name": "ipython",
    "version": 2
   },
   "file_extension": ".py",
   "mimetype": "text/x-python",
   "name": "python",
   "nbconvert_exporter": "python",
   "pygments_lexer": "ipython2",
   "version": "2.7.12"
  }
 },
 "nbformat": 4,
 "nbformat_minor": 0
}
